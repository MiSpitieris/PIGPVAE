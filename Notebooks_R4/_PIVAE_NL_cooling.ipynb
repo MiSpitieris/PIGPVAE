{
 "cells": [
  {
   "cell_type": "markdown",
   "id": "be8a1f7e-7773-4d87-a2df-33fe5c97054c",
   "metadata": {},
   "source": [
    "# VAE with Newton's law decoder"
   ]
  },
  {
   "cell_type": "code",
   "execution_count": 1,
   "id": "c0a96416-57ba-4921-96af-34c2776a8c3c",
   "metadata": {},
   "outputs": [],
   "source": [
    "import os\n",
    "import sys\n",
    "\n",
    "import numpy as np\n",
    "import torch\n",
    "import torch.nn as nn\n",
    "import torch.nn.functional as F\n",
    "import gpytorch\n",
    "import matplotlib.pyplot as plt\n",
    "import seaborn as sns\n",
    "import pandas as pd\n",
    "import copy\n",
    "from torch.utils.data import Dataset, DataLoader,random_split, Subset\n",
    "from tqdm import tqdm\n",
    "import random\n",
    "\n",
    "sys.path.append(os.path.abspath('..'))\n",
    "from Models.PIVAE import PIVAE\n",
    "from physics import NewtonsLaw"
   ]
  },
  {
   "cell_type": "code",
   "execution_count": 2,
   "id": "9fcf0f5c-f8e7-4913-9a87-8080a6e95bb8",
   "metadata": {},
   "outputs": [],
   "source": [
    "def set_seed_(seed):\n",
    "    random.seed(seed)\n",
    "    np.random.seed(seed)\n",
    "    torch.manual_seed(seed)\n",
    "    torch.cuda.manual_seed(seed)\n",
    "    torch.cuda.manual_seed_all(seed)\n",
    "    torch.backends.cudnn.deterministic = True\n",
    "    torch.backends.cudnn.benchmark = False"
   ]
  },
  {
   "cell_type": "code",
   "execution_count": 3,
   "id": "5d603cec-f2b2-401f-8263-3b34b824cc56",
   "metadata": {},
   "outputs": [
    {
     "name": "stderr",
     "output_type": "stream",
     "text": [
      "/var/folders/46/30710m094qv2_dhfs08nzzd00000gn/T/ipykernel_16754/3618831305.py:10: DeprecationWarning: DataFrameGroupBy.apply operated on the grouping columns. This behavior is deprecated, and in a future version of pandas the grouping columns will be excluded from the operation. Either pass `include_groups=False` to exclude the groupings or explicitly select the grouping columns after groupby to silence this warning.\n",
      "  df_c = df_c.groupby('Scheduler Step').apply(select_points).reset_index(drop=True)\n"
     ]
    }
   ],
   "source": [
    "# Import RICO data \n",
    "file_path = '../Data/RICO4_Dataset_processed.hdf'\n",
    "df = pd.read_hdf(file_path)\n",
    "#  define surrounding temperature\n",
    "df.loc[:, 'sur_temp'] = (df['RTD417'] + df['B.ASTRHT2.T'])/2\n",
    "df_c = df.copy()\n",
    "df_c = df[df['temp_change_class'] == 'c']\n",
    "def select_points(group):\n",
    "    return group.iloc[::10]  # Select every 10th row\n",
    "df_c = df_c.groupby('Scheduler Step').apply(select_points).reset_index(drop=True)\n",
    "df_c = df_c.dropna()"
   ]
  },
  {
   "cell_type": "code",
   "execution_count": 4,
   "id": "aab50673-d283-46a3-b682-30130d3c5c4a",
   "metadata": {},
   "outputs": [],
   "source": [
    "class RICO4Dataset(Dataset):\n",
    "    def __init__(self, df, select_var):\n",
    "        self.df = df\n",
    "        self.select_var = select_var\n",
    "        self.unique_batches = df['interval'].unique()\n",
    "\n",
    "    def __len__(self):\n",
    "        return len(self.unique_batches)\n",
    "\n",
    "    def __getitem__(self, idx):\n",
    "        batch = self.unique_batches[idx]\n",
    "        temp = self.df[self.df['interval'] == batch][self.select_var]\n",
    "        \n",
    "        # Normalize and convert to tensors\n",
    "        ti = torch.tensor(temp['time_within_interval'].to_numpy() / 240, dtype=torch.float32)\n",
    "        Ts = torch.tensor(temp['sur_temp'].to_numpy(), dtype=torch.float32)\n",
    "        heat_obs = torch.tensor(temp['B.RTD1'].to_numpy(), dtype=torch.float32)\n",
    "        \n",
    "        # Stack the tensors to create the input batch\n",
    "        x_batch = torch.stack((heat_obs, Ts, ti), dim=1)\n",
    "        \n",
    "        return x_batch\n",
    "# Initialize the dataset and train_loader\n",
    "select_var = ['time_within_interval', 'sur_temp', 'B.RTD1']\n",
    "dataset = RICO4Dataset(df_c,select_var)\n",
    "dataloader = DataLoader(dataset)\n",
    "# Define split ratios\n",
    "train_ratio = 0.7\n",
    "test_ratio = 1-train_ratio\n",
    "\n",
    "# Calculate split sizes\n",
    "total_size = len(dataset)\n",
    "train_size = int(train_ratio * total_size)\n",
    "test_size = total_size - train_size\n",
    "\n",
    "seed = 0\n",
    "generator = torch.Generator().manual_seed(seed)\n",
    "\n",
    "# Split the dataset\n",
    "train_subset, test_subset = random_split(\n",
    "    dataset,\n",
    "    [train_size, test_size],\n",
    "    generator=generator\n",
    ")\n",
    "train_loader = DataLoader(train_subset, batch_size=1, shuffle=False)\n",
    "val_loader = DataLoader(test_subset, batch_size=1, shuffle=False)"
   ]
  },
  {
   "cell_type": "code",
   "execution_count": null,
   "id": "05b3ac64-2118-404b-a4b5-2c7c16453e14",
   "metadata": {},
   "outputs": [
    {
     "name": "stdout",
     "output_type": "stream",
     "text": [
      "Progress: Epoch 80/400 | Loss=1.9958, KL=0.1593, MSE=1.8365\n",
      "Progress: Epoch 160/400 | Loss=2.0581, KL=0.1757, MSE=1.8823\n",
      "Progress: Epoch 240/400 | Loss=2.2261, KL=0.1870, MSE=2.0391\n",
      "Progress: Epoch 320/400 | Loss=2.2910, KL=0.1946, MSE=2.0965\n",
      "Progress: Epoch 400/400 | Loss=1.1676, KL=0.1920, MSE=0.9757\n"
     ]
    }
   ],
   "source": [
    "# Set the variables to be selected from the dataframe\n",
    "set_seed_(123)\n",
    "model = PIVAE(hidden_layers=[10,10], \n",
    "                 activation=nn.Tanh(),\n",
    "                 mu_prior=torch.tensor(0),\n",
    "                 var_prior=torch.tensor(2.0))\n",
    "# Initialize model parameters and optimizer\n",
    "pars = model.parameters()\n",
    "opt = torch.optim.Adam(pars, lr=0.0001)\n",
    "\n",
    "# Lists to store loss values\n",
    "l_loss, KL, mse = [], [], []\n",
    "\n",
    "# Set beta value and number of epochs\n",
    "beta_phy = 1\n",
    "num_epochs = 400\n",
    "l_loss, KL, mse = model.fit(train_loader, opt, beta_phy, num_epochs)\n"
   ]
  },
  {
   "cell_type": "code",
   "execution_count": 6,
   "id": "99e12217-2392-4cd5-ae58-0d4d3898683d",
   "metadata": {},
   "outputs": [],
   "source": [
    "torch.save(model.state_dict(), 'pre_trained_models/PIVAE_cooling.pth')"
   ]
  }
 ],
 "metadata": {
  "kernelspec": {
   "display_name": "RICO",
   "language": "python",
   "name": "python3"
  },
  "language_info": {
   "codemirror_mode": {
    "name": "ipython",
    "version": 3
   },
   "file_extension": ".py",
   "mimetype": "text/x-python",
   "name": "python",
   "nbconvert_exporter": "python",
   "pygments_lexer": "ipython3",
   "version": "3.11.7"
  }
 },
 "nbformat": 4,
 "nbformat_minor": 5
}
