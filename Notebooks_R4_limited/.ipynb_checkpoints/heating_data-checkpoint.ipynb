{
 "cells": [
  {
   "cell_type": "code",
   "execution_count": 1,
   "id": "ab6d4a4d-8522-4d88-8e4a-9919757c157d",
   "metadata": {},
   "outputs": [],
   "source": [
    "import numpy as np\n",
    "import torch\n",
    "import pandas as pd\n",
    "from torch.utils.data import Dataset, DataLoader,random_split, Subset"
   ]
  },
  {
   "cell_type": "code",
   "execution_count": 2,
   "id": "d23a38a9-32d5-4b87-ad60-996299219225",
   "metadata": {},
   "outputs": [
    {
     "name": "stderr",
     "output_type": "stream",
     "text": [
      "/var/folders/46/30710m094qv2_dhfs08nzzd00000gn/T/ipykernel_13815/2020563101.py:8: DeprecationWarning: DataFrameGroupBy.apply operated on the grouping columns. This behavior is deprecated, and in a future version of pandas the grouping columns will be excluded from the operation. Either pass `include_groups=False` to exclude the groupings or explicitly select the grouping columns after groupby to silence this warning.\n",
      "  df_h = df_h.groupby('Scheduler Step').apply(select_points).reset_index(drop=True)\n"
     ]
    }
   ],
   "source": [
    "# Import RICO data \n",
    "file_path = '../Data/RICO4_Dataset_processed.hdf'\n",
    "df = pd.read_hdf(file_path)\n",
    "\n",
    "df_h = df[df['temp_change_class'] == 'h']\n",
    "def select_points(group):\n",
    "    return group.iloc[::10]  # Select every 10th row\n",
    "df_h = df_h.groupby('Scheduler Step').apply(select_points).reset_index(drop=True)\n",
    "# Remove rows where 'interval' is 53 or 5 from df_h\n",
    "excluded_intervals = [53, 5]\n",
    "\n",
    "# Filter the DataFrame\n",
    "df_h_filtered = df_h[~df_h['interval'].isin(excluded_intervals)].reset_index(drop=True)\n",
    "\n",
    "df_h = df_h_filtered\n",
    "\n",
    "class RICO4Dataset(Dataset):\n",
    "    def __init__(self, df_h):\n",
    "        self.df_h = df_h\n",
    "        self.unique_intervals = df_h['interval'].unique()\n",
    "\n",
    "    def __len__(self):\n",
    "        return len(self.unique_intervals)\n",
    "\n",
    "    def __getitem__(self, idx):\n",
    "        batch = self.unique_intervals[idx]\n",
    "        id = self.df_h['interval'] == batch\n",
    "        temp = torch.tensor(self.df_h[id]['B.RTD1'].to_numpy(), dtype=torch.float32)\n",
    "        ti = torch.tensor(self.df_h[id]['time_within_interval'].to_numpy()/240, dtype=torch.float32)\n",
    "        x_batch = torch.cat((temp.unsqueeze(1), ti.unsqueeze(1)), axis=1)\n",
    "        return x_batch\n",
    "        \n",
    "dataset = RICO4Dataset(df_h)\n",
    "# Define split ratios\n",
    "train_ratio = 0.7\n",
    "test_ratio = 1-train_ratio\n",
    "\n",
    "# Calculate split sizes\n",
    "total_size = len(dataset)\n",
    "train_size = int(train_ratio * total_size)\n",
    "test_size = total_size - train_size\n",
    "\n",
    "seed = 0\n",
    "generator = torch.Generator().manual_seed(seed)\n",
    "\n",
    "# Split the dataset\n",
    "train_subset, test_subset = random_split(\n",
    "    dataset,\n",
    "    [train_size, test_size],\n",
    "    generator=generator\n",
    ")\n",
    "train_loader = DataLoader(train_subset, batch_size=1, shuffle=False)\n",
    "val_loader = DataLoader(test_subset, batch_size=1, shuffle=False)"
   ]
  }
 ],
 "metadata": {
  "kernelspec": {
   "display_name": "Python 3 (ipykernel)",
   "language": "python",
   "name": "python3"
  },
  "language_info": {
   "codemirror_mode": {
    "name": "ipython",
    "version": 3
   },
   "file_extension": ".py",
   "mimetype": "text/x-python",
   "name": "python",
   "nbconvert_exporter": "python",
   "pygments_lexer": "ipython3",
   "version": "3.11.7"
  }
 },
 "nbformat": 4,
 "nbformat_minor": 5
}
