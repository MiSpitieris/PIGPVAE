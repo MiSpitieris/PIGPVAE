{
 "cells": [
  {
   "cell_type": "code",
   "execution_count": 1,
   "id": "7517f9f0-8e03-45ed-884f-ffad7f6af342",
   "metadata": {},
   "outputs": [],
   "source": [
    "import os\n",
    "import sys\n",
    "import numpy as np\n",
    "import torch\n",
    "import pandas as pd\n",
    "from torch.utils.data import Dataset, DataLoader,random_split, Subset"
   ]
  },
  {
   "cell_type": "code",
   "execution_count": 2,
   "id": "4605ea07-668a-4b7b-b853-9d305e27c1fd",
   "metadata": {},
   "outputs": [
    {
     "name": "stderr",
     "output_type": "stream",
     "text": [
      "/var/folders/46/30710m094qv2_dhfs08nzzd00000gn/T/ipykernel_60201/2333176601.py:9: DeprecationWarning: DataFrameGroupBy.apply operated on the grouping columns. This behavior is deprecated, and in a future version of pandas the grouping columns will be excluded from the operation. Either pass `include_groups=False` to exclude the groupings or explicitly select the grouping columns after groupby to silence this warning.\n",
      "  df_h = df_h.groupby('Scheduler Step').apply(select_points).reset_index(drop=True)\n"
     ]
    },
    {
     "data": {
      "text/plain": [
       "8"
      ]
     },
     "execution_count": 2,
     "metadata": {},
     "output_type": "execute_result"
    }
   ],
   "source": [
    "# Load and preprocess the data\n",
    "file_path = '../Data/RICO4_Dataset_processed.hdf'\n",
    "df = pd.read_hdf(file_path)\n",
    "\n",
    "# Filter heating data and downsample\n",
    "df_h = df[df['temp_change_class'] == 'h']\n",
    "def select_points(group):\n",
    "    return group.iloc[::10]  # Select every 10th row\n",
    "df_h = df_h.groupby('Scheduler Step').apply(select_points).reset_index(drop=True)\n",
    "\n",
    "# Exclude specific intervals\n",
    "excluded_intervals = [53, 5]\n",
    "df_h_filtered = df_h[~df_h['interval'].isin(excluded_intervals)].reset_index(drop=True)\n",
    "df_h = df_h_filtered\n",
    "\n",
    "# Define RICO4Dataset\n",
    "class RICO4Dataset(Dataset):\n",
    "    def __init__(self, df_h):\n",
    "        self.df_h = df_h\n",
    "        self.unique_intervals = df_h['interval'].unique()\n",
    "\n",
    "    def __len__(self):\n",
    "        return len(self.unique_intervals)\n",
    "\n",
    "    def __getitem__(self, idx):\n",
    "        batch = self.unique_intervals[idx]\n",
    "        id = self.df_h['interval'] == batch\n",
    "        temp = torch.tensor(self.df_h[id]['B.RTD1'].to_numpy(), dtype=torch.float32)\n",
    "        ti = torch.tensor(self.df_h[id]['time_within_interval'].to_numpy() / 240, dtype=torch.float32)\n",
    "        x_batch = torch.cat((temp.unsqueeze(1), ti.unsqueeze(1)), axis=1)\n",
    "        return x_batch\n",
    "\n",
    "# Create dataset instance\n",
    "dataset = RICO4Dataset(df_h)\n",
    "\n",
    "# Split the dataset into above_20 and below_20\n",
    "above_20_data = []\n",
    "below_20_data = []\n",
    "\n",
    "for idx in range(len(dataset)):\n",
    "    x_batch = dataset[idx]\n",
    "    starting_value = x_batch[0, 0].item()  # Get the starting value of B.RTD1\n",
    "    if starting_value > 20:\n",
    "        above_20_data.append(x_batch)\n",
    "    else:\n",
    "        below_20_data.append(x_batch)\n",
    "\n",
    "# Define SubsetDataset\n",
    "class SubsetDataset(Dataset):\n",
    "    def __init__(self, data):\n",
    "        self.data = data\n",
    "\n",
    "    def __len__(self):\n",
    "        return len(self.data)\n",
    "\n",
    "    def __getitem__(self, idx):\n",
    "        return self.data[idx]\n",
    "\n",
    "# Create DataLoader instances\n",
    "above_20_dataset = SubsetDataset(above_20_data)\n",
    "below_20_dataset = SubsetDataset(below_20_data)\n",
    "\n",
    "train_loader = DataLoader(above_20_dataset, batch_size=1, shuffle=True)  # Adjust batch_size as needed\n",
    "val_loader = DataLoader(below_20_dataset, batch_size=1, shuffle=True)\n",
    "len(train_loader)"
   ]
  }
 ],
 "metadata": {
  "kernelspec": {
   "display_name": "Python 3 (ipykernel)",
   "language": "python",
   "name": "python3"
  },
  "language_info": {
   "codemirror_mode": {
    "name": "ipython",
    "version": 3
   },
   "file_extension": ".py",
   "mimetype": "text/x-python",
   "name": "python",
   "nbconvert_exporter": "python",
   "pygments_lexer": "ipython3",
   "version": "3.11.7"
  }
 },
 "nbformat": 4,
 "nbformat_minor": 5
}
