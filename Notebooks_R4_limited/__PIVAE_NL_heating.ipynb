{
 "cells": [
  {
   "cell_type": "markdown",
   "id": "be8a1f7e-7773-4d87-a2df-33fe5c97054c",
   "metadata": {},
   "source": [
    "# VAE with Newton's law decoder\n"
   ]
  },
  {
   "cell_type": "code",
   "execution_count": 6,
   "id": "c0a96416-57ba-4921-96af-34c2776a8c3c",
   "metadata": {},
   "outputs": [],
   "source": [
    "import os\n",
    "import sys\n",
    "\n",
    "import numpy as np\n",
    "import torch\n",
    "import torch.nn as nn\n",
    "import torch.nn.functional as F\n",
    "import gpytorch\n",
    "import matplotlib.pyplot as plt\n",
    "import seaborn as sns\n",
    "import pandas as pd\n",
    "import copy\n",
    "from torch.utils.data import Dataset, DataLoader,random_split, Subset\n",
    "from tqdm import tqdm\n",
    "import random\n",
    "\n",
    "sys.path.append(os.path.abspath('..'))\n",
    "from Models.PIVAE import PIVAE\n",
    "from physics import NewtonsLaw\n"
   ]
  },
  {
   "cell_type": "code",
   "execution_count": 7,
   "id": "83280dc6-6052-4cf5-a614-1d909e663e4f",
   "metadata": {},
   "outputs": [
    {
     "name": "stderr",
     "output_type": "stream",
     "text": [
      "/var/folders/46/30710m094qv2_dhfs08nzzd00000gn/T/ipykernel_22508/3580172856.py:10: DeprecationWarning: DataFrameGroupBy.apply operated on the grouping columns. This behavior is deprecated, and in a future version of pandas the grouping columns will be excluded from the operation. Either pass `include_groups=False` to exclude the groupings or explicitly select the grouping columns after groupby to silence this warning.\n",
      "  df_h = df_h.groupby('Scheduler Step').apply(select_points).reset_index(drop=True)\n"
     ]
    }
   ],
   "source": [
    "# Import RICO data \n",
    "file_path = '../Data/RICO4_Dataset_processed.hdf'\n",
    "df = pd.read_hdf(file_path)\n",
    "#  define surrounding temperature\n",
    "df.loc[:, 'sur_temp'] = (df['RTD420'] + df['RTD417'] + df['B.ASTRHT2.T'])/3 \n",
    "df_h = df.copy()\n",
    "df_h = df[df['temp_change_class'] == 'h']\n",
    "def select_points(group):\n",
    "    return group.iloc[::10]  # Select every 10th row\n",
    "df_h = df_h.groupby('Scheduler Step').apply(select_points).reset_index(drop=True)\n",
    "df_h = df_h.dropna()"
   ]
  },
  {
   "cell_type": "code",
   "execution_count": 8,
   "id": "5d603cec-f2b2-401f-8263-3b34b824cc56",
   "metadata": {},
   "outputs": [],
   "source": [
    "class RICO4Dataset(Dataset):\n",
    "    def __init__(self, df, select_var, exclude_samples=None):\n",
    "        \"\"\"\n",
    "        Args:\n",
    "            df: DataFrame containing the data.\n",
    "            select_var: List of variables to include in the dataset.\n",
    "            exclude_samples: List of samples (intervals) to exclude from the dataset.\n",
    "        \"\"\"\n",
    "        self.df = df\n",
    "        self.select_var = select_var\n",
    "        if exclude_samples:\n",
    "            self.unique_batches = [batch for batch in df['interval'].unique() if batch not in exclude_samples]\n",
    "        else:\n",
    "            self.unique_batches = df['interval'].unique()\n",
    "\n",
    "    def __len__(self):\n",
    "        return len(self.unique_batches)\n",
    "\n",
    "    def __getitem__(self, idx):\n",
    "        batch = self.unique_batches[idx]\n",
    "        temp = self.df[self.df['interval'] == batch][self.select_var]\n",
    "        \n",
    "        # Normalize and convert to tensors\n",
    "        ti = torch.tensor(temp['time_within_interval'].to_numpy() / 240, dtype=torch.float32)\n",
    "        Ts = torch.tensor(temp['sur_temp'].to_numpy(), dtype=torch.float32)\n",
    "        heat_obs = torch.tensor(temp['B.RTD1'].to_numpy(), dtype=torch.float32)\n",
    "        \n",
    "        # Stack the tensors to create the input batch\n",
    "        x_batch = torch.stack((heat_obs, Ts, ti), dim=1)\n",
    "        \n",
    "        return x_batch\n",
    "\n",
    "# Initialize the dataset, excluding samples 53 and 5\n",
    "exclude_samples = [53, 5]\n",
    "select_var = ['time_within_interval', 'sur_temp', 'B.RTD1']\n",
    "dataset = RICO4Dataset(df_h, select_var, exclude_samples=exclude_samples)\n",
    "\n",
    "# Split the dataset into above_20 and below_20\n",
    "above_20_data = []\n",
    "below_20_data = []\n",
    "\n",
    "for idx in range(len(dataset)):\n",
    "    x_batch = dataset[idx]\n",
    "    starting_value = x_batch[0, 0].item()  # Get the starting value of B.RTD1\n",
    "    if starting_value > 20:\n",
    "        above_20_data.append(x_batch)\n",
    "    else:\n",
    "        below_20_data.append(x_batch)\n",
    "\n",
    "# Define SubsetDataset\n",
    "class SubsetDataset(Dataset):\n",
    "    def __init__(self, data):\n",
    "        self.data = data\n",
    "\n",
    "    def __len__(self):\n",
    "        return len(self.data)\n",
    "\n",
    "    def __getitem__(self, idx):\n",
    "        return self.data[idx]\n",
    "\n",
    "# Create DataLoader instances\n",
    "above_20_dataset = SubsetDataset(above_20_data)\n",
    "below_20_dataset = SubsetDataset(below_20_data)\n",
    "\n",
    "train_loader = DataLoader(above_20_dataset, batch_size=1, shuffle=True)  # Adjust batch_size as needed\n",
    "val_loader = DataLoader(below_20_dataset, batch_size=1, shuffle=True)\n"
   ]
  },
  {
   "cell_type": "code",
   "execution_count": 9,
   "id": "05b3ac64-2118-404b-a4b5-2c7c16453e14",
   "metadata": {},
   "outputs": [
    {
     "name": "stdout",
     "output_type": "stream",
     "text": [
      "Progress: Epoch 200/1000 | Loss=3.3183, KL=0.4029, MSE=2.9154\n",
      "Progress: Epoch 400/1000 | Loss=2.8387, KL=0.4078, MSE=2.4309\n",
      "Progress: Epoch 600/1000 | Loss=2.9361, KL=0.3953, MSE=2.5408\n",
      "Progress: Epoch 800/1000 | Loss=3.3199, KL=0.3896, MSE=2.9303\n",
      "Progress: Epoch 1000/1000 | Loss=3.5820, KL=0.3757, MSE=3.2063\n"
     ]
    }
   ],
   "source": [
    "torch.manual_seed(0)\n",
    "model = PIVAE(hidden_layers=[10,10], \n",
    "                 activation=nn.Tanh(),\n",
    "                 mu_prior=torch.tensor(0),\n",
    "                 var_prior=torch.tensor(2.0))\n",
    "# Initialize model parameters and optimizer\n",
    "pars = model.parameters()\n",
    "opt = torch.optim.Adam(pars, lr=0.0001)\n",
    "\n",
    "# Lists to store loss values\n",
    "l_loss, KL, mse = [], [], []\n",
    "\n",
    "# Set beta value and number of epochs\n",
    "beta_phy = 1\n",
    "num_epochs = 1000\n",
    "l_loss, KL, mse = model.fit(train_loader, opt, beta_phy, num_epochs)\n"
   ]
  },
  {
   "cell_type": "code",
   "execution_count": null,
   "id": "395feb66-9ed9-404b-b398-b5f56e1c7e75",
   "metadata": {},
   "outputs": [],
   "source": [
    "# torch.save(model.state_dict(), 'pre_trained_models/PIVAE_heating.pth')"
   ]
  }
 ],
 "metadata": {
  "kernelspec": {
   "display_name": "RICO",
   "language": "python",
   "name": "python3"
  },
  "language_info": {
   "codemirror_mode": {
    "name": "ipython",
    "version": 3
   },
   "file_extension": ".py",
   "mimetype": "text/x-python",
   "name": "python",
   "nbconvert_exporter": "python",
   "pygments_lexer": "ipython3",
   "version": "3.11.7"
  }
 },
 "nbformat": 4,
 "nbformat_minor": 5
}
